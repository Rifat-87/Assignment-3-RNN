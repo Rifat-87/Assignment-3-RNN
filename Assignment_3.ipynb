{
  "nbformat": 4,
  "nbformat_minor": 0,
  "metadata": {
    "colab": {
      "provenance": []
    },
    "kernelspec": {
      "name": "python3",
      "display_name": "Python 3"
    },
    "language_info": {
      "name": "python"
    }
  },
  "cells": [
    {
      "cell_type": "markdown",
      "source": [
        "# ***Initialization***"
      ],
      "metadata": {
        "id": "wtQCTqDfMBWb"
      }
    },
    {
      "cell_type": "code",
      "source": [
        "import pandas as pd\n",
        "import numpy as np\n",
        "from sklearn.preprocessing import MinMaxScaler\n",
        "from statsmodels.tsa.arima.model import ARIMA\n",
        "from tensorflow.keras.models import Sequential\n",
        "from tensorflow.keras.layers import Dense, LSTM\n",
        "import matplotlib.pyplot as plt\n",
        "import warnings\n",
        "warnings.filterwarnings('ignore')"
      ],
      "metadata": {
        "id": "D4j-gv7CMJba"
      },
      "execution_count": 6,
      "outputs": []
    },
    {
      "cell_type": "markdown",
      "source": [
        "# ***Importing Database***"
      ],
      "metadata": {
        "id": "g2SDaRnxMLBr"
      }
    },
    {
      "cell_type": "code",
      "source": [
        "df = pd.read_csv('https://raw.githubusercontent.com/Rifat-87/Assignment-3-RNN/main/005930.KS.csv')\n",
        "df.info()\n",
        "df['Date'] = pd.to_datetime(df['Date'])\n",
        "df.set_index('Date', inplace=True)\n",
        "df.fillna(method='ffill', inplace=True)\n",
        "df1=df.reset_index()['Close']\n",
        "plt.plot(df1)\n",
        "plt.xlabel('Time')\n",
        "plt.ylabel('Price')"
      ],
      "metadata": {
        "id": "RcDmVpqzMTFj"
      },
      "execution_count": null,
      "outputs": []
    },
    {
      "cell_type": "code",
      "source": [
        "arima_model = ARIMA(df['Close'], order=(5, 1, 0))\n",
        "arima_result = arima_model.fit()\n",
        "df['ARIMA_Predictions'] = arima_result.predict(start=0, end=len(df) - 1, typ='levels')\n",
        "df['Residuals'] = df['Close'] - df['ARIMA_Predictions']\n",
        "scaler = MinMaxScaler(feature_range=(0, 1))\n",
        "df['Normalized_Residuals'] = scaler.fit_transform(df[['Residuals']])\n",
        "def create_dataset(dataset, look_back=1):\n",
        "    X, Y = [], []\n",
        "    for i in range(len(dataset) - look_back):\n",
        "        a = dataset[i:(i + look_back)]\n",
        "        X.append(a)\n",
        "        Y.append(dataset[i + look_back])\n",
        "    return np.array(X), np.array(Y)\n",
        "\n",
        "look_back = 5\n",
        "X, Y = create_dataset(df['Normalized_Residuals'].values, look_back)\n",
        "\n",
        "\n",
        "train_size = int(len(X) * 0.67)\n",
        "test_size = len(X) - train_size\n",
        "trainX, testX = X[0:train_size], X[train_size:]\n",
        "trainY, testY = Y[0:train_size], Y[train_size:]\n",
        "\n",
        "\n",
        "trainX = np.reshape(trainX, (trainX.shape[0], 1, trainX.shape[1]))\n",
        "testX = np.reshape(testX, (testX.shape[0], 1, testX.shape[1]))\n",
        "\n",
        "\n",
        "model = Sequential()\n",
        "model.add(LSTM(50, input_shape=(1, look_back)))\n",
        "model.add(Dense(1))\n",
        "model.compile(optimizer='adam', loss='mean_squared_error')\n",
        "\n",
        "\n",
        "model.fit(trainX, trainY, epochs=100, batch_size=1, verbose=1)\n",
        "\n",
        "trainPredict = model.predict(trainX)\n",
        "testPredict = model.predict(testX)\n",
        "\n",
        "\n",
        "trainPredict = scaler.inverse_transform(trainPredict)\n",
        "testPredict = scaler.inverse_transform(testPredict)\n",
        "\n",
        "\n",
        "predicted_residuals = np.append(trainPredict.flatten(), testPredict.flatten())\n",
        "predicted_residuals = np.concatenate((np.zeros(look_back), predicted_residuals))\n",
        "df['RNN_Predicted_Residuals'] = predicted_residuals[:len(df)]\n",
        "\n",
        "df['Final_Predictions'] = df['ARIMA_Predictions'] + df['RNN_Predicted_Residuals']\n",
        "\n",
        "plt.figure(figsize=(15, 8))\n",
        "plt.plot(df['Close'], label='Actual Stock Price')\n",
        "plt.plot(df['Final_Predictions'], label='Final Predicted Stock Price', alpha=0.7)\n",
        "plt.title('Stock Price Prediction with Residual Correction')\n",
        "plt.xlabel('Date')\n",
        "plt.ylabel('Price')\n",
        "plt.legend()\n",
        "plt.show()\n"
      ],
      "metadata": {
        "id": "v8TloxirGp4u"
      },
      "execution_count": null,
      "outputs": []
    }
  ]
}